{
 "cells": [
  {
   "cell_type": "code",
   "execution_count": 8,
   "id": "b63e024c",
   "metadata": {},
   "outputs": [],
   "source": [
    "import pandas as pd\n",
    "import json\n",
    "import re"
   ]
  },
  {
   "cell_type": "code",
   "execution_count": 2,
   "id": "3ba2310b",
   "metadata": {},
   "outputs": [],
   "source": [
    "class Category:\n",
    "    BOOKS = 'BOOKS'\n",
    "    PATIO = 'PATIO'\n",
    "    GROCERY = 'GROCERY'\n",
    "    CLOTHING = 'CLOTHING'\n",
    "    ELECTRONICS = 'ELECTRONICS'\n",
    "    \n",
    "class Review:\n",
    "    def __init__(self, text, category):\n",
    "        self.text = text\n",
    "        self.category = category"
   ]
  },
  {
   "cell_type": "markdown",
   "id": "3f431c23",
   "metadata": {},
   "source": [
    "# TO LOAD INDIVIDUAL json DATA FILES INTO A SINGLE DATASET"
   ]
  },
  {
   "cell_type": "code",
   "execution_count": 7,
   "id": "33f5058d",
   "metadata": {},
   "outputs": [],
   "source": [
    "file_names = ['Books_small.json', 'Patio_small.json', 'Grocery_small.json',\n",
    "              'Clothing_small.json', 'Electronics_small.json']\n",
    "categories = [Category.BOOKS, Category.PATIO, Category.GROCERY, Category.CLOTHING, Category.ELECTRONICS]\n",
    "\n",
    "reviews = []\n",
    "\n",
    "for x in range(len(file_names)):\n",
    "    file = file_names[x]\n",
    "    category = categories[x]\n",
    "    \n",
    "    with open(file) as f:\n",
    "        for line in f:\n",
    "            review = json.loads(line)\n",
    "            \n",
    "            reviews.append(Review(review['reviewText'], category))"
   ]
  },
  {
   "cell_type": "markdown",
   "id": "33dd25d8",
   "metadata": {},
   "source": [
    "# TO SPLIT OUR DATA INTO TRAINING AND TEST DATASETS"
   ]
  },
  {
   "cell_type": "code",
   "execution_count": 15,
   "id": "a6291701",
   "metadata": {},
   "outputs": [],
   "source": [
    "from sklearn.model_selection import train_test_split\n",
    "\n",
    "training, test = train_test_split(reviews, test_size=0.3, random_state=42)\n",
    "\n",
    "x_train = [x.text for x in training]\n",
    "x_test = [x.text for x in test]\n",
    "\n",
    "y_train = [x.category for x in training]\n",
    "y_test = [x.category for x in test]"
   ]
  },
  {
   "cell_type": "markdown",
   "id": "39491774",
   "metadata": {},
   "source": [
    "# CONVERTING TEXT INPUT INTO VECTORS"
   ]
  },
  {
   "cell_type": "code",
   "execution_count": 16,
   "id": "d5b5b2ac",
   "metadata": {},
   "outputs": [],
   "source": [
    "# Tfidvectorizer is preferred over countvectorizer because it accounts for frequency and importance of words\n",
    "from sklearn.feature_extraction.text import TfidfVectorizer\n",
    "vectorizer = TfidfVectorizer()\n",
    "\n",
    "x_train_vectors = vectorizer.fit_transform(x_train)\n",
    "x_test_vectors = vectorizer.transform(x_test)\n",
    "\n"
   ]
  },
  {
   "cell_type": "markdown",
   "id": "445599b5",
   "metadata": {},
   "source": [
    "# BUILDING OUR MODEL"
   ]
  },
  {
   "cell_type": "code",
   "execution_count": 17,
   "id": "1efef4d0",
   "metadata": {},
   "outputs": [],
   "source": [
    "from sklearn.svm import SVC\n",
    "\n",
    "model = SVC()\n",
    "\n",
    "clf = model.fit(x_train_vectors, y_train)\n",
    "y_pred = clf.predict(x_test_vectors)"
   ]
  },
  {
   "cell_type": "code",
   "execution_count": 19,
   "id": "bd7e82c8",
   "metadata": {
    "scrolled": true
   },
   "outputs": [
    {
     "name": "stdout",
     "output_type": "stream",
     "text": [
      "              precision    recall  f1-score   support\n",
      "\n",
      "       BOOKS       0.99      0.93      0.96       316\n",
      "    CLOTHING       0.92      0.93      0.93       301\n",
      " ELECTRONICS       0.84      0.93      0.88       290\n",
      "     GROCERY       0.94      0.96      0.95       284\n",
      "       PATIO       0.95      0.88      0.91       309\n",
      "\n",
      "    accuracy                           0.93      1500\n",
      "   macro avg       0.93      0.93      0.93      1500\n",
      "weighted avg       0.93      0.93      0.93      1500\n",
      "\n"
     ]
    }
   ],
   "source": [
    "#An important metric in classification report is accuracy \n",
    "from sklearn.metrics import classification_report\n",
    "\n",
    "print(classification_report(y_test, y_pred))\n"
   ]
  },
  {
   "cell_type": "code",
   "execution_count": 28,
   "id": "b9fbf9a9",
   "metadata": {},
   "outputs": [
    {
     "name": "stdout",
     "output_type": "stream",
     "text": [
      "              precision    recall  f1-score   support\n",
      "\n",
      "       BOOKS       0.99      0.93      0.96       316\n",
      "    CLOTHING       0.92      0.94      0.93       301\n",
      " ELECTRONICS       0.86      0.93      0.89       290\n",
      "     GROCERY       0.93      0.96      0.95       284\n",
      "       PATIO       0.94      0.88      0.91       309\n",
      "\n",
      "    accuracy                           0.93      1500\n",
      "   macro avg       0.93      0.93      0.93      1500\n",
      "weighted avg       0.93      0.93      0.93      1500\n",
      "\n"
     ]
    },
    {
     "data": {
      "text/plain": [
       "array(['BOOKS', 'CLOTHING', 'ELECTRONICS'], dtype='<U11')"
      ]
     },
     "execution_count": 28,
     "metadata": {},
     "output_type": "execute_result"
    }
   ],
   "source": [
    "#Import GridsearchCV to find optimal parameter values for model\n",
    "from sklearn.model_selection import GridSearchCV\n",
    "\n",
    "parameter = {'kernel': ('linear', 'rbf'), 'C': [0.1, 1, 8, 16, 32]}\n",
    "svc = SVC()\n",
    "clf = GridSearchCV(svc, parameter, cv = 5)\n",
    "fit = clf.fit(x_train_vectors, y_train)\n",
    "y_pred_cv = fit.predict(x_test_vectors)\n",
    "print(classification_report(y_test, y_pred_cv))\n",
    "\n",
    "test_set = ['good read', 'beautiful clothing', 'television is clear']\n",
    "fit_set = vectorizer.transform(test_set)\n",
    "clf.predict(fit_set)"
   ]
  },
  {
   "cell_type": "code",
   "execution_count": 30,
   "id": "7665350a",
   "metadata": {},
   "outputs": [
    {
     "name": "stdout",
     "output_type": "stream",
     "text": [
      "              precision    recall  f1-score   support\n",
      "\n",
      "       BOOKS       0.99      0.94      0.97       316\n",
      "    CLOTHING       0.91      0.93      0.92       301\n",
      " ELECTRONICS       0.86      0.91      0.89       290\n",
      "     GROCERY       0.93      0.96      0.94       284\n",
      "       PATIO       0.94      0.89      0.91       309\n",
      "\n",
      "    accuracy                           0.93      1500\n",
      "   macro avg       0.93      0.93      0.93      1500\n",
      "weighted avg       0.93      0.93      0.93      1500\n",
      "\n"
     ]
    },
    {
     "data": {
      "text/plain": [
       "array(['BOOKS', 'CLOTHING', 'ELECTRONICS', 'CLOTHING', 'GROCERY'],\n",
       "      dtype='<U11')"
      ]
     },
     "execution_count": 30,
     "metadata": {},
     "output_type": "execute_result"
    }
   ],
   "source": [
    "from sklearn.linear_model import LogisticRegression\n",
    "\n",
    "lr_model = LogisticRegression()\n",
    "lr_fit = lr_model.fit(x_train_vectors, y_train)\n",
    "lr_pred = lr_fit.predict(x_test_vectors)\n",
    "\n",
    "print(classification_report(y_test, lr_pred))\n",
    "\n",
    "test_set = ['good read', 'beautiful clothing', 'television is clear', 'lovely garden', 'shopping list']\n",
    "fit_set = vectorizer.transform(test_set)\n",
    "lr_model.predict(fit_set)"
   ]
  },
  {
   "cell_type": "code",
   "execution_count": 32,
   "id": "33d2ba2b",
   "metadata": {
    "scrolled": false
   },
   "outputs": [
    {
     "name": "stdout",
     "output_type": "stream",
     "text": [
      "              precision    recall  f1-score   support\n",
      "\n",
      "       BOOKS       0.91      0.80      0.85       316\n",
      "    CLOTHING       0.83      0.72      0.77       301\n",
      " ELECTRONICS       0.82      0.80      0.81       290\n",
      "     GROCERY       0.86      0.84      0.85       284\n",
      "       PATIO       0.70      0.90      0.79       309\n",
      "\n",
      "    accuracy                           0.81      1500\n",
      "   macro avg       0.82      0.81      0.81      1500\n",
      "weighted avg       0.82      0.81      0.81      1500\n",
      "\n"
     ]
    },
    {
     "data": {
      "text/plain": [
       "array(['CLOTHING', 'CLOTHING', 'ELECTRONICS', 'CLOTHING', 'CLOTHING'],\n",
       "      dtype='<U11')"
      ]
     },
     "execution_count": 32,
     "metadata": {},
     "output_type": "execute_result"
    }
   ],
   "source": [
    "from sklearn.naive_bayes import GaussianNB\n",
    "\n",
    "nb_model = GaussianNB()\n",
    "nb_fit = nb_model.fit(x_train_vectors.toarray(), y_train)\n",
    "nb_pred = nb_fit.predict(x_test_vectors.toarray())\n",
    "\n",
    "print(classification_report(y_test, nb_pred))\n",
    "\n",
    "test_set = ['good read', 'beautiful clothing', 'television is clear','lovely garden', 'shopping list']\n",
    "fit_set = vectorizer.transform(test_set)\n",
    "nb_model.predict((fit_set).toarray())"
   ]
  },
  {
   "cell_type": "markdown",
   "id": "ff689038",
   "metadata": {},
   "source": [
    "# FILTERING INPUT DATA "
   ]
  },
  {
   "cell_type": "code",
   "execution_count": 39,
   "id": "ac9961c6",
   "metadata": {},
   "outputs": [
    {
     "name": "stdout",
     "output_type": "stream",
     "text": [
      "['good read', 'beautiful clothing', 'television is clear', 'lovely garden', 'shopping list']\n",
      "['BOOKS' 'CLOTHING' 'ELECTRONICS' 'PATIO' 'GROCERY']\n"
     ]
    }
   ],
   "source": [
    "test_set1 = ['good read##', 'beautiful clothing!', 'television is clear?', 'lovely garden', 'shopping list']\n",
    "\n",
    "filtered_test_set = [re.sub(r'[^\\w\\s]', '', item) for item in test_set1]\n",
    "\n",
    "print(filtered_test_set)\n",
    "new_fit = vectorizer.transform(filtered_test_set)\n",
    "\n",
    "#SVM model is the preferred model as it showed the highest accuracy, closely followed by logistic regression\n",
    "clf.predict(new_fit)"
   ]
  }
 ],
 "metadata": {
  "kernelspec": {
   "display_name": "Python 3 (ipykernel)",
   "language": "python",
   "name": "python3"
  },
  "language_info": {
   "codemirror_mode": {
    "name": "ipython",
    "version": 3
   },
   "file_extension": ".py",
   "mimetype": "text/x-python",
   "name": "python",
   "nbconvert_exporter": "python",
   "pygments_lexer": "ipython3",
   "version": "3.10.9"
  }
 },
 "nbformat": 4,
 "nbformat_minor": 5
}
